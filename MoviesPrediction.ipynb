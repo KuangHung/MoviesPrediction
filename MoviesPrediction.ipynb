{
 "cells": [
  {
   "cell_type": "code",
   "execution_count": 30,
   "metadata": {
    "collapsed": true
   },
   "outputs": [],
   "source": [
    "# !/usr/bin/python\n",
    "# -*- coding: utf-8 -*-"
   ]
  },
  {
   "cell_type": "code",
   "execution_count": 31,
   "metadata": {},
   "outputs": [
    {
     "name": "stdout",
     "output_type": "stream",
     "text": [
      "{'1193': '5', '661': '3', '914': '3', '3408': '4', '2355': '5', '1197': '3', '1287': '5', '2804': '5', '594': '4', '919': '4', '595': '5', '938': '4', '2398': '4', '2918': '4', '1035': '5', '2791': '4', '2687': '3', '2018': '4', '3105': '5', '2797': '4', '2321': '3', '720': '3', '1270': '5', '527': '5', '2340': '3', '48': '5', '1097': '4', '1721': '4', '1545': '4', '745': '3', '2294': '4', '3186': '4', '1566': '4', '588': '4', '1907': '4', '783': '4', '1836': '5', '1022': '5', '2762': '4', '150': '5', '1': '5', '1961': '5', '1962': '4', '2692': '4', '260': '4', '1028': '5', '1029': '5', '1207': '4', '2028': '5', '531': '4', '3114': '4', '608': '4', '1246': '4'}\n"
     ]
    }
   ],
   "source": [
    "# create ratings.dat dictionary\n",
    "ratings = open(\"./ml-1m/ratings.dat\",\"r\")\n",
    "userRatingsDict = {}\n",
    "\n",
    "for rating in ratings:\n",
    "    data = rating.split('::')\n",
    "    userID = data[0]\n",
    "    movieID = data[1]\n",
    "    rating = data[2]\n",
    "    # setup movie ratings to same userID\n",
    "    userRatingsDict.setdefault(userID,{})\n",
    "    temp = userRatingsDict[userID]\n",
    "    temp.update({movieID: rating})\n",
    "    userRatingsDict[userID].update(temp)\n",
    "\n",
    "print(userRatingsDict['1'])\n",
    "ratings.close()"
   ]
  },
  {
   "cell_type": "code",
   "execution_count": 32,
   "metadata": {},
   "outputs": [
    {
     "name": "stdout",
     "output_type": "stream",
     "text": [
      "{'gender': 'F', 'age': '1', 'occupation': '10'}\n"
     ]
    }
   ],
   "source": [
    "# create users.dat dictionary\n",
    "users = open(\"./ml-1m/users.dat\",\"r\")\n",
    "usersDict = {}\n",
    "\n",
    "for user in users:\n",
    "    data = user.split('::')\n",
    "    userID = data[0]\n",
    "    gender = data[1]\n",
    "    age = data[2]\n",
    "    occupation = data[3]\n",
    "    #setup user\n",
    "    usersDict[userID] = {'gender': gender, 'age': age, 'occupation': occupation}\n",
    "\n",
    "print(usersDict['1'])\n",
    "users.close()"
   ]
  },
  {
   "cell_type": "code",
   "execution_count": 33,
   "metadata": {},
   "outputs": [
    {
     "name": "stdout",
     "output_type": "stream",
     "text": [
      "{'title': 'Toy Story (1995)', 'genres': \"Animation|Children's|Comedy\\n\"}\n"
     ]
    }
   ],
   "source": [
    "# create movies.dat dictionary\n",
    "movies = open(\"./ml-1m/movies.dat\",\"r\",encoding='iso-8859-15')\n",
    "moviesDict = {}\n",
    "\n",
    "for movie in movies:\n",
    "    data = movie.split('::')\n",
    "    movieID = data[0]\n",
    "    title = data[1]\n",
    "    genres = data[2]\n",
    "    #setup movie\n",
    "    moviesDict[movieID] = {'title': title, 'genres': genres}\n",
    "\n",
    "print(moviesDict['1'])\n",
    "movies.close()"
   ]
  },
  {
   "cell_type": "code",
   "execution_count": 34,
   "metadata": {
    "collapsed": true
   },
   "outputs": [],
   "source": [
    "# predictor data\n",
    "knowData =\"\"\"1::Toy Story (1995)::Animation|Children's|Comedy::5\n",
    "2::Jumanji (1995)::Adventure|Children's|Fantasy::4\n",
    "9::Sudden Death (1995)::Action::2\n",
    "10::GoldenEye (1995)::Action|Adventure|Thriller::2\n",
    "13::Balto (1995)::Animation|Children's::1\n",
    "14::Nixon (1995)::Drama::1\n",
    "17::Sense and Sensibility (1995)::Drama|Romance::1\n",
    "23::Assassins (1995)::Thriller::3\n",
    "47::Seven (Se7en) (1995)::Crime|Thriller::2\n",
    "356::Forrest Gump (1994)::Comedy|Romance|War::5\n",
    "3147::Green Mile, The (1999)::Drama|Thriller::5\n",
    "593::Silence of the Lambs, The (1991)::Drama|Thriller::2\n",
    "2028::Saving Private Ryan (1998)::Action|Drama|War::5\n",
    "838::Emma (1996)::Comedy|Drama|Romance::1\n",
    "1721::Titanic (1997)::Drama|Romance::5\n",
    "2628::Star Wars: Episode I - The Phantom Menace (1999)::Action|Adventure|Fantasy|Sci-Fi::4\n",
    "1608::Air Force One (1997)::Action|Thriller::4\n",
    "165::Die Hard: With a Vengeance (1995)::Action|Thriller::4\n",
    "589::Terminator 2: Judgment Day (1991)::Action|Sci-Fi|Thriller::2\"\"\"\n",
    "\n",
    "unknowData = \"\"\"318::Shawshank Redemption, The (1994)::Drama\n",
    "527::Schindler's List (1993)::Drama|War\n",
    "2959::Fight Club (1999)::Drama\n",
    "393::Street Fighter (1994)::Action\n",
    "3285::Beach, The (2000)::Adventure|Drama\n",
    "2571::Matrix, The (1999)::Action|Sci-Fi|Thriller\n",
    "1270::Back to the Future (1985)::Comedy|Sci-Fi\n",
    "3578::Gladiator (2000)::Action|Drama\n",
    "1200::Aliens (1986)::Action|Sci-Fi|Thriller|War\n",
    "2858::American Beauty (1999)::Comedy|Drama\n",
    "22::Copycat (1995)::Crime|Drama|Thriller\"\"\""
   ]
  },
  {
   "cell_type": "code",
   "execution_count": 35,
   "metadata": {},
   "outputs": [
    {
     "name": "stdout",
     "output_type": "stream",
     "text": [
      "{'1': '5', '2': '4', '9': '2', '10': '2', '13': '1', '14': '1', '17': '1', '23': '3', '47': '2', '356': '5', '3147': '5', '593': '2', '2028': '5', '838': '1', '1721': '5', '2628': '4', '1608': '4', '165': '4', '589': '2'}\n",
      "{'1193': '5', '661': '3', '914': '3', '3408': '4', '2355': '5', '1197': '3', '1287': '5', '2804': '5', '594': '4', '919': '4', '595': '5', '938': '4', '2398': '4', '2918': '4', '1035': '5', '2791': '4', '2687': '3', '2018': '4', '3105': '5', '2797': '4', '2321': '3', '720': '3', '1270': '5', '527': '5', '2340': '3', '48': '5', '1097': '4', '1721': '4', '1545': '4', '745': '3', '2294': '4', '3186': '4', '1566': '4', '588': '4', '1907': '4', '783': '4', '1836': '5', '1022': '5', '2762': '4', '150': '5', '1': '5', '1961': '5', '1962': '4', '2692': '4', '260': '4', '1028': '5', '1029': '5', '1207': '4', '2028': '5', '531': '4', '3114': '4', '608': '4', '1246': '4'}\n"
     ]
    }
   ],
   "source": [
    "# put predictor data into dictionary\n",
    "knowDataDict = {}\n",
    "for rating in knowData.split(\"\\n\"):\n",
    "    data = rating.split(\"::\")\n",
    "    movieID = data[0]\n",
    "    rating = data[3]\n",
    "    knowDataDict[movieID] = rating\n",
    "\n",
    "userRatingsDict['predictor'] = knowDataDict\n",
    "\n",
    "print(userRatingsDict['predictor'])\n",
    "print(userRatingsDict['1'])"
   ]
  }
 ],
 "metadata": {
  "kernelspec": {
   "display_name": "Python 3",
   "language": "python",
   "name": "python3"
  },
  "language_info": {
   "codemirror_mode": {
    "name": "ipython",
    "version": 3
   },
   "file_extension": ".py",
   "mimetype": "text/x-python",
   "name": "python",
   "nbconvert_exporter": "python",
   "pygments_lexer": "ipython3",
   "version": "3.6.2"
  }
 },
 "nbformat": 4,
 "nbformat_minor": 2
}
