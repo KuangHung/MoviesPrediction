{
 "cells": [
  {
   "cell_type": "code",
   "execution_count": null,
   "metadata": {
    "collapsed": true
   },
   "outputs": [],
   "source": [
    "#!/usr/bin/python\n",
    "# -*- coding: utf-8 -*-"
   ]
  },
  {
   "cell_type": "code",
   "execution_count": 2,
   "metadata": {},
   "outputs": [
    {
     "name": "stdout",
     "output_type": "stream",
     "text": [
      "{'1193': '5', '661': '3', '914': '3', '3408': '4', '2355': '5', '1197': '3', '1287': '5', '2804': '5', '594': '4', '919': '4', '595': '5', '938': '4', '2398': '4', '2918': '4', '1035': '5', '2791': '4', '2687': '3', '2018': '4', '3105': '5', '2797': '4', '2321': '3', '720': '3', '1270': '5', '527': '5', '2340': '3', '48': '5', '1097': '4', '1721': '4', '1545': '4', '745': '3', '2294': '4', '3186': '4', '1566': '4', '588': '4', '1907': '4', '783': '4', '1836': '5', '1022': '5', '2762': '4', '150': '5', '1': '5', '1961': '5', '1962': '4', '2692': '4', '260': '4', '1028': '5', '1029': '5', '1207': '4', '2028': '5', '531': '4', '3114': '4', '608': '4', '1246': '4'}\n"
     ]
    }
   ],
   "source": [
    "#create ratings.dat dictionary\n",
    "ratings = open(\"./ml-1m/ratings.dat\",\"r\")\n",
    "userRatingsDict = {}\n",
    "\n",
    "for rating in ratings:\n",
    "    data = rating.split('::')\n",
    "    userID = data[0]\n",
    "    movieID = data[1]\n",
    "    rating = data[2]\n",
    "    #setup movie ratings to same userID\n",
    "    userRatingsDict.setdefault(userID,{})\n",
    "    temp = userRatingsDict[userID]\n",
    "    temp.update({movieID: rating})\n",
    "    userRatingsDict[userID].update(temp)\n",
    "\n",
    "print(userRatingsDict['1'])\n",
    "ratings.close()"
   ]
  },
  {
   "cell_type": "code",
   "execution_count": 8,
   "metadata": {},
   "outputs": [
    {
     "name": "stdout",
     "output_type": "stream",
     "text": [
      "{'gender': 'F', 'age': '1', 'occupation': '10'}\n"
     ]
    }
   ],
   "source": [
    "#create users.dat dictionary\n",
    "users = open(\"./ml-1m/users.dat\",\"r\")\n",
    "usersDict = {}\n",
    "\n",
    "for user in users:\n",
    "    data = user.split('::')\n",
    "    userID = data[0]\n",
    "    gender = data[1]\n",
    "    age = data[2]\n",
    "    occupation = data[3]\n",
    "    #setup user\n",
    "    userRatingsDict[userID] = {'gender': gender, 'age': age, 'occupation': occupation}\n",
    "\n",
    "print(userRatingsDict['1'])\n",
    "users.close()"
   ]
  },
  {
   "cell_type": "code",
   "execution_count": 11,
   "metadata": {},
   "outputs": [
    {
     "name": "stdout",
     "output_type": "stream",
     "text": [
      "{'title': 'Toy Story (1995)', 'genres': \"Animation|Children's|Comedy\\n\"}\n"
     ]
    }
   ],
   "source": [
    "#create movies.dat dictionary\n",
    "movies = open(\"./ml-1m/movies.dat\",\"r\",encoding='iso-8859-15')\n",
    "moviesDict = {}\n",
    "\n",
    "for movie in movies:\n",
    "    data = movie.split('::')\n",
    "    movieID = data[0]\n",
    "    title = data[1]\n",
    "    genres = data[2]\n",
    "    #setup movie\n",
    "    moviesDict[movieID] = {'title': title, 'genres': genres}\n",
    "\n",
    "print(moviesDict['1'])\n",
    "movies.close()"
   ]
  }
 ],
 "metadata": {
  "kernelspec": {
   "display_name": "Python 3",
   "language": "python",
   "name": "python3"
  },
  "language_info": {
   "codemirror_mode": {
    "name": "ipython",
    "version": 3
   },
   "file_extension": ".py",
   "mimetype": "text/x-python",
   "name": "python",
   "nbconvert_exporter": "python",
   "pygments_lexer": "ipython3",
   "version": "3.6.2"
  }
 },
 "nbformat": 4,
 "nbformat_minor": 2
}
